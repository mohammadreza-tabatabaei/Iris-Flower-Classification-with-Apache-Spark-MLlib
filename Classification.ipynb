{
  "nbformat": 4,
  "nbformat_minor": 0,
  "metadata": {
    "colab": {
      "provenance": []
    },
    "kernelspec": {
      "name": "python3",
      "display_name": "Python 3"
    },
    "language_info": {
      "name": "python"
    }
  },
  "cells": [
    {
      "cell_type": "code",
      "execution_count": 50,
      "metadata": {
        "id": "bVPZcYBZY_Jt"
      },
      "outputs": [],
      "source": [
        "from pyspark.sql import SparkSession\n",
        "from pyspark.sql.functions import *\n",
        "from pyspark.ml.feature import VectorAssembler\n",
        "from pyspark.ml.feature import StringIndexer\n",
        "from pyspark.ml.classification import LogisticRegression\n",
        "from pyspark.ml.evaluation import MulticlassClassificationEvaluator\n",
        "from pyspark.ml.classification import NaiveBayes\n",
        "from pyspark.ml.evaluation import MulticlassClassificationEvaluator\n",
        "from pyspark.ml.classification import DecisionTreeClassifier\n"
      ]
    },
    {
      "cell_type": "code",
      "source": [
        "# Initialize Spark session\n",
        "spark = SparkSession.builder.appName(\"irisClassification\").getOrCreate()"
      ],
      "metadata": {
        "id": "3AMTaG23cRnX"
      },
      "execution_count": 51,
      "outputs": []
    },
    {
      "cell_type": "code",
      "source": [
        "iris_df=spark.read.csv(\"/content/Iris.csv\",header=True,inferSchema=True)"
      ],
      "metadata": {
        "id": "etrFzLG8c788"
      },
      "execution_count": 52,
      "outputs": []
    },
    {
      "cell_type": "code",
      "source": [
        "iris_df.take(1)"
      ],
      "metadata": {
        "colab": {
          "base_uri": "https://localhost:8080/"
        },
        "id": "94upG6B6cqJt",
        "outputId": "d9daecac-e94b-4d17-ab75-db39f99e5fe1"
      },
      "execution_count": 53,
      "outputs": [
        {
          "output_type": "execute_result",
          "data": {
            "text/plain": [
              "[Row(Id=1, SepalLengthCm=5.1, SepalWidthCm=3.5, PetalLengthCm=1.4, PetalWidthCm=0.2, Species='Iris-setosa')]"
            ]
          },
          "metadata": {},
          "execution_count": 53
        }
      ]
    },
    {
      "cell_type": "code",
      "source": [
        "VectorAssembler=VectorAssembler(inputCols=[\"SepalLengthCm\",\"SepalWidthCm\",\"PetalLengthCm\",\"PetalWidthCm\"],outputCol=\"features\")"
      ],
      "metadata": {
        "id": "FXXbuDFPels7"
      },
      "execution_count": 54,
      "outputs": []
    },
    {
      "cell_type": "code",
      "source": [
        "viris_df=VectorAssembler.transform(iris_df)"
      ],
      "metadata": {
        "id": "FKKnc7IRf9g-"
      },
      "execution_count": 55,
      "outputs": []
    },
    {
      "cell_type": "code",
      "source": [
        "viris_df.take(1)"
      ],
      "metadata": {
        "colab": {
          "base_uri": "https://localhost:8080/"
        },
        "id": "RVUew9TAgNm-",
        "outputId": "27b0082f-636a-4961-ad6a-66d604344015"
      },
      "execution_count": 56,
      "outputs": [
        {
          "output_type": "execute_result",
          "data": {
            "text/plain": [
              "[Row(Id=1, SepalLengthCm=5.1, SepalWidthCm=3.5, PetalLengthCm=1.4, PetalWidthCm=0.2, Species='Iris-setosa', features=DenseVector([5.1, 3.5, 1.4, 0.2]))]"
            ]
          },
          "metadata": {},
          "execution_count": 56
        }
      ]
    },
    {
      "cell_type": "code",
      "source": [
        "indexer=StringIndexer(inputCol=\"Species\",outputCol=\"label\")"
      ],
      "metadata": {
        "id": "pCNVHG1PgTwW"
      },
      "execution_count": 57,
      "outputs": []
    },
    {
      "cell_type": "code",
      "source": [
        "iviris_df=indexer.fit(viris_df).transform(viris_df)"
      ],
      "metadata": {
        "id": "iJyPLYLngiAT"
      },
      "execution_count": 58,
      "outputs": []
    },
    {
      "cell_type": "code",
      "source": [
        "iviris_df.take(1)"
      ],
      "metadata": {
        "colab": {
          "base_uri": "https://localhost:8080/"
        },
        "id": "Ykyft51tgoac",
        "outputId": "75064fea-b047-4cf7-abe1-911528d3cfb9"
      },
      "execution_count": 59,
      "outputs": [
        {
          "output_type": "execute_result",
          "data": {
            "text/plain": [
              "[Row(Id=1, SepalLengthCm=5.1, SepalWidthCm=3.5, PetalLengthCm=1.4, PetalWidthCm=0.2, Species='Iris-setosa', features=DenseVector([5.1, 3.5, 1.4, 0.2]), label=0.0)]"
            ]
          },
          "metadata": {},
          "execution_count": 59
        }
      ]
    },
    {
      "cell_type": "code",
      "source": [
        "splits=iviris_df.randomSplit([0.6,0.4],1)"
      ],
      "metadata": {
        "id": "gki0YbRRg2nQ"
      },
      "execution_count": 60,
      "outputs": []
    },
    {
      "cell_type": "code",
      "source": [
        "train_df=splits[0]\n",
        "test_df=splits[1]"
      ],
      "metadata": {
        "id": "TlZNhGlrhE90"
      },
      "execution_count": 61,
      "outputs": []
    },
    {
      "cell_type": "code",
      "source": [
        "train_df.count()"
      ],
      "metadata": {
        "colab": {
          "base_uri": "https://localhost:8080/"
        },
        "id": "8Vatw0AuhLSW",
        "outputId": "2d892e05-4ea7-451a-c593-8b51b66d23fa"
      },
      "execution_count": 62,
      "outputs": [
        {
          "output_type": "execute_result",
          "data": {
            "text/plain": [
              "98"
            ]
          },
          "metadata": {},
          "execution_count": 62
        }
      ]
    },
    {
      "cell_type": "code",
      "source": [
        "test_df.count()"
      ],
      "metadata": {
        "colab": {
          "base_uri": "https://localhost:8080/"
        },
        "id": "FWMmhzlHhSgE",
        "outputId": "c74bc6a7-6f55-4f70-93b7-e110cfdee31e"
      },
      "execution_count": 63,
      "outputs": [
        {
          "output_type": "execute_result",
          "data": {
            "text/plain": [
              "52"
            ]
          },
          "metadata": {},
          "execution_count": 63
        }
      ]
    },
    {
      "cell_type": "code",
      "source": [
        "iviris_df.count()"
      ],
      "metadata": {
        "colab": {
          "base_uri": "https://localhost:8080/"
        },
        "id": "SI1vjqhFhUpy",
        "outputId": "115a2fe0-bee1-4393-8abc-adaec50f1a21"
      },
      "execution_count": 64,
      "outputs": [
        {
          "output_type": "execute_result",
          "data": {
            "text/plain": [
              "150"
            ]
          },
          "metadata": {},
          "execution_count": 64
        }
      ]
    },
    {
      "cell_type": "code",
      "source": [
        "NaiveBayes=NaiveBayes(modelType=\"multinomial\")"
      ],
      "metadata": {
        "id": "Wux_1zAKhXa_"
      },
      "execution_count": 65,
      "outputs": []
    },
    {
      "cell_type": "code",
      "source": [
        "Nb_model=NaiveBayes.fit(train_df)"
      ],
      "metadata": {
        "id": "kDmMPNQlhcR4"
      },
      "execution_count": 66,
      "outputs": []
    },
    {
      "cell_type": "code",
      "source": [
        "prediction_df=Nb_model.transform(test_df)"
      ],
      "metadata": {
        "id": "CreWfTYFhj2F"
      },
      "execution_count": 67,
      "outputs": []
    },
    {
      "cell_type": "code",
      "source": [
        "prediction_df.take(1)"
      ],
      "metadata": {
        "colab": {
          "base_uri": "https://localhost:8080/"
        },
        "id": "ssafot3Fhsqz",
        "outputId": "44b5743e-ba9e-4816-f057-d38cafe6d320"
      },
      "execution_count": 68,
      "outputs": [
        {
          "output_type": "execute_result",
          "data": {
            "text/plain": [
              "[Row(Id=1, SepalLengthCm=5.1, SepalWidthCm=3.5, PetalLengthCm=1.4, PetalWidthCm=0.2, Species='Iris-setosa', features=DenseVector([5.1, 3.5, 1.4, 0.2]), label=0.0, rawPrediction=DenseVector([-12.111, -13.4138, -14.0841]), probability=DenseVector([0.7088, 0.1926, 0.0985]), prediction=0.0)]"
            ]
          },
          "metadata": {},
          "execution_count": 68
        }
      ]
    },
    {
      "cell_type": "code",
      "source": [
        "evaluator=MulticlassClassificationEvaluator(labelCol=\"label\",predictionCol=\"prediction\",metricName=\"accuracy\")"
      ],
      "metadata": {
        "id": "AHs46o7Chun7"
      },
      "execution_count": 69,
      "outputs": []
    },
    {
      "cell_type": "code",
      "source": [
        "nbaccuracy=evaluator.evaluate(prediction_df)"
      ],
      "metadata": {
        "id": "5xhZ3KcQhyWD"
      },
      "execution_count": 70,
      "outputs": []
    },
    {
      "cell_type": "code",
      "source": [
        "nbaccuracy"
      ],
      "metadata": {
        "colab": {
          "base_uri": "https://localhost:8080/"
        },
        "id": "SvlLweCth4ab",
        "outputId": "0d04d466-de9a-4ce7-e837-1709d1460bb8"
      },
      "execution_count": 71,
      "outputs": [
        {
          "output_type": "execute_result",
          "data": {
            "text/plain": [
              "0.9038461538461539"
            ]
          },
          "metadata": {},
          "execution_count": 71
        }
      ]
    },
    {
      "cell_type": "code",
      "source": [
        "from pyspark.ml.classification import MultilayerPerceptronClassifier"
      ],
      "metadata": {
        "id": "yLMBswAaidx4"
      },
      "execution_count": 72,
      "outputs": []
    },
    {
      "cell_type": "code",
      "source": [
        "layers=[4,5,5,3]"
      ],
      "metadata": {
        "id": "X-Yh3LrNirX3"
      },
      "execution_count": 73,
      "outputs": []
    },
    {
      "cell_type": "code",
      "source": [
        "mlp=MultilayerPerceptronClassifier(layers=layers,seed=1)"
      ],
      "metadata": {
        "id": "7YRb5Z5Ci5LX"
      },
      "execution_count": 74,
      "outputs": []
    },
    {
      "cell_type": "code",
      "source": [
        "mlp_evaluator=MulticlassClassificationEvaluator(metricName=\"accuracy\")\n"
      ],
      "metadata": {
        "id": "OA6ogHI8i87S"
      },
      "execution_count": 75,
      "outputs": []
    },
    {
      "cell_type": "code",
      "source": [
        "mlp_accuracy=mlp_evaluator.evaluate(prediction_df)"
      ],
      "metadata": {
        "id": "4sblZrv1jDgZ"
      },
      "execution_count": 76,
      "outputs": []
    },
    {
      "cell_type": "code",
      "source": [
        "mlp_accuracy"
      ],
      "metadata": {
        "colab": {
          "base_uri": "https://localhost:8080/"
        },
        "id": "jeuUt1hhjIiH",
        "outputId": "eaffa5f9-7ce7-4939-e7e0-31378ba3c00c"
      },
      "execution_count": 77,
      "outputs": [
        {
          "output_type": "execute_result",
          "data": {
            "text/plain": [
              "0.9038461538461539"
            ]
          },
          "metadata": {},
          "execution_count": 77
        }
      ]
    },
    {
      "cell_type": "code",
      "source": [
        "dt=DecisionTreeClassifier(labelCol=\"label\",featuresCol=\"features\")"
      ],
      "metadata": {
        "id": "2rVFc14ZjPnk"
      },
      "execution_count": 78,
      "outputs": []
    },
    {
      "cell_type": "code",
      "source": [
        "dt_model=dt.fit(train_df)"
      ],
      "metadata": {
        "id": "ay-C8T6njiwf"
      },
      "execution_count": 79,
      "outputs": []
    },
    {
      "cell_type": "code",
      "source": [
        "dt_prediction=dt_model.transform(test_df)"
      ],
      "metadata": {
        "id": "nicp--Y-jwsI"
      },
      "execution_count": 80,
      "outputs": []
    },
    {
      "cell_type": "code",
      "source": [
        "dt_evaluatopr=MulticlassClassificationEvaluator(labelCol=\"label\",predictionCol=\"prediction\",metricName=\"accuracy\")"
      ],
      "metadata": {
        "id": "GwSqpGIAj7dR"
      },
      "execution_count": 81,
      "outputs": []
    },
    {
      "cell_type": "code",
      "source": [
        "dt_accuracy=dt_evaluatopr.evaluate(dt_prediction)"
      ],
      "metadata": {
        "id": "7ku0vde0kIs9"
      },
      "execution_count": 82,
      "outputs": []
    },
    {
      "cell_type": "code",
      "source": [
        "dt_accuracy"
      ],
      "metadata": {
        "colab": {
          "base_uri": "https://localhost:8080/"
        },
        "id": "grTlV-qCkWM4",
        "outputId": "149ff0d1-b276-42e4-8138-bb80aef80ebf"
      },
      "execution_count": 83,
      "outputs": [
        {
          "output_type": "execute_result",
          "data": {
            "text/plain": [
              "0.9423076923076923"
            ]
          },
          "metadata": {},
          "execution_count": 83
        }
      ]
    }
  ]
}